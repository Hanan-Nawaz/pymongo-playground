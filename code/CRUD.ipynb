{
 "cells": [
  {
   "cell_type": "code",
   "execution_count": 1,
   "id": "1875b572",
   "metadata": {},
   "outputs": [
    {
     "name": "stdout",
     "output_type": "stream",
     "text": [
      "Requirement already satisfied: pymongo in /Library/Frameworks/Python.framework/Versions/3.11/lib/python3.11/site-packages (4.5.0)\n",
      "Requirement already satisfied: dnspython<3.0.0,>=1.16.0 in /Library/Frameworks/Python.framework/Versions/3.11/lib/python3.11/site-packages (from pymongo) (2.4.2)\n",
      "\n",
      "\u001b[1m[\u001b[0m\u001b[34;49mnotice\u001b[0m\u001b[1;39;49m]\u001b[0m\u001b[39;49m A new release of pip is available: \u001b[0m\u001b[31;49m23.1.2\u001b[0m\u001b[39;49m -> \u001b[0m\u001b[32;49m23.2.1\u001b[0m\n",
      "\u001b[1m[\u001b[0m\u001b[34;49mnotice\u001b[0m\u001b[1;39;49m]\u001b[0m\u001b[39;49m To update, run: \u001b[0m\u001b[32;49mpip install --upgrade pip\u001b[0m\n"
     ]
    }
   ],
   "source": [
    "#installing pymongo if not installed\n",
    "!pip install pymongo"
   ]
  },
  {
   "cell_type": "code",
   "execution_count": 2,
   "id": "c662fa67",
   "metadata": {},
   "outputs": [],
   "source": [
    "#importing pymongo\n",
    "import pymongo"
   ]
  },
  {
   "cell_type": "code",
   "execution_count": 5,
   "id": "29210cd4",
   "metadata": {},
   "outputs": [],
   "source": [
    "#connecting with db\n",
    "def connect_db():\n",
    "    try:\n",
    "        \n",
    "        #connecting with server\n",
    "        myClient = pymongo.MongoClient('mongodb://localhost:27017')\n",
    "        \n",
    "        #connecting with db\n",
    "        myDb = myClient['studentsdb']\n",
    "        \n",
    "        #connecting with collection\n",
    "        myCollection = myDb['personal_details']\n",
    "        \n",
    "        return myCollection\n",
    "    \n",
    "    except Exception as e:\n",
    "        print('Error is ' + str(e))"
   ]
  },
  {
   "cell_type": "code",
   "execution_count": 19,
   "id": "1b1a0375",
   "metadata": {},
   "outputs": [],
   "source": [
    "#adding data\n",
    "def add_data(myCollection):\n",
    "    try:\n",
    "        #one new document\n",
    "        newStudent = {'name': 'Abdul Hanan Nawaz', 'Degree': 'SE', 'Campus': 'NUML, ISB'}\n",
    "        \n",
    "        #many new stds\n",
    "        newStudents = [\n",
    "                          {'name': 'Hamza', 'Degree': 'SE', 'Campus': 'NUML, ISB'},\n",
    "                          {'name': 'Bakht', 'Degree': 'SE', 'Campus': 'NUML, ISB'}\n",
    "                      ]\n",
    "        \n",
    "        #adding single document\n",
    "        newStdAdded = myCollection.insert_one(newStudent)\n",
    "        \n",
    "        #adding many documents\n",
    "        newStdsAdded = myCollection.insert_many(newStudents)\n",
    "        \n",
    "        #printing ids\n",
    "        print('Ids are ' + str(newStdAdded.inserted_id))\n",
    "        print('Ids are ' + str(newStdsAdded.inserted_ids))\n",
    "        \n",
    "    except Exception as e:\n",
    "        print('Error is ' + str(e))"
   ]
  },
  {
   "cell_type": "code",
   "execution_count": 21,
   "id": "6f550e6c",
   "metadata": {},
   "outputs": [],
   "source": [
    "#getting data\n",
    "def get_data(myCollection):\n",
    "    try:\n",
    "        \n",
    "        #getting all data\n",
    "        allData = myCollection.find()\n",
    "        \n",
    "        for data in allData:\n",
    "            print(data)\n",
    "        \n",
    "    except Exception as e:\n",
    "        print('Error is ' + str(e))"
   ]
  },
  {
   "cell_type": "code",
   "execution_count": 38,
   "id": "828fad47",
   "metadata": {},
   "outputs": [],
   "source": [
    "#updating data\n",
    "def update_data(myCollection):\n",
    "    try:\n",
    "        \n",
    "        #query -> which thing to be updated\n",
    "        myQuery = {'name': 'Hamza'}\n",
    "        \n",
    "        #newData -> data to be added\n",
    "        newData = {'$set' : {'name': 'Muhammad Hamza'} }\n",
    "        \n",
    "        #performing updation\n",
    "        update = myCollection.update_many(myQuery, newData)\n",
    "        \n",
    "        #printing updating one\n",
    "        print('Printing updating data')\n",
    "        \n",
    "        allData = myCollection.find({'name': {'$regex': '^M'}})\n",
    "        \n",
    "        for data in allData:\n",
    "            print(data)\n",
    "        \n",
    "    except Exception as e:\n",
    "        print('Error is ' + str(e))"
   ]
  },
  {
   "cell_type": "code",
   "execution_count": 46,
   "id": "eb9f578d",
   "metadata": {},
   "outputs": [],
   "source": [
    "#deleting data\n",
    "def delete_data(myCollection):\n",
    "    try:\n",
    "        \n",
    "        #query -> which thing to be deleted\n",
    "        myQuery = {'name': 'Bakht'}\n",
    "        \n",
    "        #performing updation\n",
    "        update = myCollection.delete_many(myQuery)\n",
    "        \n",
    "        #printing updated data\n",
    "        print('Printing updated data')\n",
    "        \n",
    "        allData = myCollection.find()\n",
    "        \n",
    "        for data in allData:\n",
    "            print(data)\n",
    "        \n",
    "    except Exception as e:\n",
    "        print('Error is ' + str(e))"
   ]
  },
  {
   "cell_type": "code",
   "execution_count": 48,
   "id": "f92d3301",
   "metadata": {},
   "outputs": [
    {
     "name": "stdout",
     "output_type": "stream",
     "text": [
      "Ids are 6516bedf057e678577f683a4\n",
      "Ids are [ObjectId('6516bedf057e678577f683a5'), ObjectId('6516bedf057e678577f683a6')]\n",
      "Data in Personal Details\n",
      "{'_id': ObjectId('6516bb3a057e678577f68363'), 'name': 'Abdul Hanan Nawaz', 'Degree': 'SE', 'Campus': 'NUML, ISB'}\n",
      "{'_id': ObjectId('6516bbd0057e678577f68367'), 'name': 'Abdul Hanan Nawaz', 'Degree': 'SE', 'Campus': 'NUML, ISB'}\n",
      "{'_id': ObjectId('6516bbdb057e678577f6836b'), 'name': 'Abdul Hanan Nawaz', 'Degree': 'SE', 'Campus': 'NUML, ISB'}\n",
      "{'_id': ObjectId('6516bc09057e678577f68370'), 'name': 'Abdul Hanan Nawaz', 'Degree': 'SE', 'Campus': 'NUML, ISB'}\n",
      "{'_id': ObjectId('6516bd7a057e678577f68374'), 'name': 'Abdul Hanan Nawaz', 'Degree': 'SE', 'Campus': 'NUML, ISB'}\n",
      "{'_id': ObjectId('6516bd86057e678577f68378'), 'name': 'Abdul Hanan Nawaz', 'Degree': 'SE', 'Campus': 'NUML, ISB'}\n",
      "{'_id': ObjectId('6516bdc8057e678577f6837c'), 'name': 'Abdul Hanan Nawaz', 'Degree': 'SE', 'Campus': 'NUML, ISB'}\n",
      "{'_id': ObjectId('6516bdd2057e678577f68380'), 'name': 'Abdul Hanan Nawaz', 'Degree': 'SE', 'Campus': 'NUML, ISB'}\n",
      "{'_id': ObjectId('6516be0f057e678577f68384'), 'name': 'Abdul Hanan Nawaz', 'Degree': 'SE', 'Campus': 'NUML, ISB'}\n",
      "{'_id': ObjectId('6516be18057e678577f68388'), 'name': 'Abdul Hanan Nawaz', 'Degree': 'SE', 'Campus': 'NUML, ISB'}\n",
      "{'_id': ObjectId('6516be2b057e678577f6838c'), 'name': 'Abdul Hanan Nawaz', 'Degree': 'SE', 'Campus': 'NUML, ISB'}\n",
      "{'_id': ObjectId('6516be3d057e678577f68390'), 'name': 'Abdul Hanan Nawaz', 'Degree': 'SE', 'Campus': 'NUML, ISB'}\n",
      "{'_id': ObjectId('6516be8f057e678577f68394'), 'name': 'Abdul Hanan Nawaz', 'Degree': 'SE', 'Campus': 'NUML, ISB'}\n",
      "{'_id': ObjectId('6516beae057e678577f68398'), 'name': 'Abdul Hanan Nawaz', 'Degree': 'SE', 'Campus': 'NUML, ISB'}\n",
      "{'_id': ObjectId('6516bebe057e678577f6839c'), 'name': 'Abdul Hanan Nawaz', 'Degree': 'SE', 'Campus': 'NUML, ISB'}\n",
      "{'_id': ObjectId('6516becf057e678577f683a0'), 'name': 'Abdul Hanan Nawaz', 'Degree': 'SE', 'Campus': 'NUML, ISB'}\n",
      "{'_id': ObjectId('6516becf057e678577f683a1'), 'name': 'Muhammad Hamza', 'Degree': 'SE', 'Campus': 'NUML, ISB'}\n",
      "{'_id': ObjectId('6516bedf057e678577f683a4'), 'name': 'Abdul Hanan Nawaz', 'Degree': 'SE', 'Campus': 'NUML, ISB'}\n",
      "{'_id': ObjectId('6516bedf057e678577f683a5'), 'name': 'Hamza', 'Degree': 'SE', 'Campus': 'NUML, ISB'}\n",
      "{'_id': ObjectId('6516bedf057e678577f683a6'), 'name': 'Bakht', 'Degree': 'SE', 'Campus': 'NUML, ISB'}\n",
      "Printing updating data\n",
      "{'_id': ObjectId('6516becf057e678577f683a1'), 'name': 'Muhammad Hamza', 'Degree': 'SE', 'Campus': 'NUML, ISB'}\n",
      "{'_id': ObjectId('6516bedf057e678577f683a5'), 'name': 'Muhammad Hamza', 'Degree': 'SE', 'Campus': 'NUML, ISB'}\n",
      "Printing updated data\n",
      "{'_id': ObjectId('6516bb3a057e678577f68363'), 'name': 'Abdul Hanan Nawaz', 'Degree': 'SE', 'Campus': 'NUML, ISB'}\n",
      "{'_id': ObjectId('6516bbd0057e678577f68367'), 'name': 'Abdul Hanan Nawaz', 'Degree': 'SE', 'Campus': 'NUML, ISB'}\n",
      "{'_id': ObjectId('6516bbdb057e678577f6836b'), 'name': 'Abdul Hanan Nawaz', 'Degree': 'SE', 'Campus': 'NUML, ISB'}\n",
      "{'_id': ObjectId('6516bc09057e678577f68370'), 'name': 'Abdul Hanan Nawaz', 'Degree': 'SE', 'Campus': 'NUML, ISB'}\n",
      "{'_id': ObjectId('6516bd7a057e678577f68374'), 'name': 'Abdul Hanan Nawaz', 'Degree': 'SE', 'Campus': 'NUML, ISB'}\n",
      "{'_id': ObjectId('6516bd86057e678577f68378'), 'name': 'Abdul Hanan Nawaz', 'Degree': 'SE', 'Campus': 'NUML, ISB'}\n",
      "{'_id': ObjectId('6516bdc8057e678577f6837c'), 'name': 'Abdul Hanan Nawaz', 'Degree': 'SE', 'Campus': 'NUML, ISB'}\n",
      "{'_id': ObjectId('6516bdd2057e678577f68380'), 'name': 'Abdul Hanan Nawaz', 'Degree': 'SE', 'Campus': 'NUML, ISB'}\n",
      "{'_id': ObjectId('6516be0f057e678577f68384'), 'name': 'Abdul Hanan Nawaz', 'Degree': 'SE', 'Campus': 'NUML, ISB'}\n",
      "{'_id': ObjectId('6516be18057e678577f68388'), 'name': 'Abdul Hanan Nawaz', 'Degree': 'SE', 'Campus': 'NUML, ISB'}\n",
      "{'_id': ObjectId('6516be2b057e678577f6838c'), 'name': 'Abdul Hanan Nawaz', 'Degree': 'SE', 'Campus': 'NUML, ISB'}\n",
      "{'_id': ObjectId('6516be3d057e678577f68390'), 'name': 'Abdul Hanan Nawaz', 'Degree': 'SE', 'Campus': 'NUML, ISB'}\n",
      "{'_id': ObjectId('6516be8f057e678577f68394'), 'name': 'Abdul Hanan Nawaz', 'Degree': 'SE', 'Campus': 'NUML, ISB'}\n",
      "{'_id': ObjectId('6516beae057e678577f68398'), 'name': 'Abdul Hanan Nawaz', 'Degree': 'SE', 'Campus': 'NUML, ISB'}\n",
      "{'_id': ObjectId('6516bebe057e678577f6839c'), 'name': 'Abdul Hanan Nawaz', 'Degree': 'SE', 'Campus': 'NUML, ISB'}\n",
      "{'_id': ObjectId('6516becf057e678577f683a0'), 'name': 'Abdul Hanan Nawaz', 'Degree': 'SE', 'Campus': 'NUML, ISB'}\n",
      "{'_id': ObjectId('6516becf057e678577f683a1'), 'name': 'Muhammad Hamza', 'Degree': 'SE', 'Campus': 'NUML, ISB'}\n",
      "{'_id': ObjectId('6516bedf057e678577f683a4'), 'name': 'Abdul Hanan Nawaz', 'Degree': 'SE', 'Campus': 'NUML, ISB'}\n",
      "{'_id': ObjectId('6516bedf057e678577f683a5'), 'name': 'Muhammad Hamza', 'Degree': 'SE', 'Campus': 'NUML, ISB'}\n"
     ]
    }
   ],
   "source": [
    "#perforimg CRUD\n",
    "try:\n",
    "    myCollection = connect_db()\n",
    "    \n",
    "    #checking collection\n",
    "    if myCollection is not None:\n",
    "        add_data(myCollection)\n",
    "        \n",
    "        print('Data in Personal Details')\n",
    "        get_data(myCollection)\n",
    "\n",
    "        update_data(myCollection)\n",
    "        \n",
    "        delete_data(myCollection)\n",
    "        \n",
    "except Exception as e:\n",
    "    print('Error is ' + str(e))"
   ]
  },
  {
   "cell_type": "code",
   "execution_count": null,
   "id": "876c2963",
   "metadata": {},
   "outputs": [],
   "source": []
  }
 ],
 "metadata": {
  "kernelspec": {
   "display_name": "Python 3 (ipykernel)",
   "language": "python",
   "name": "python3"
  },
  "language_info": {
   "codemirror_mode": {
    "name": "ipython",
    "version": 3
   },
   "file_extension": ".py",
   "mimetype": "text/x-python",
   "name": "python",
   "nbconvert_exporter": "python",
   "pygments_lexer": "ipython3",
   "version": "3.11.3"
  }
 },
 "nbformat": 4,
 "nbformat_minor": 5
}
