{
 "cells": [
  {
   "cell_type": "code",
   "execution_count": 1,
   "id": "8805aa9c",
   "metadata": {},
   "outputs": [
    {
     "name": "stdout",
     "output_type": "stream",
     "text": [
      "Requirement already satisfied: pymongo in /Library/Frameworks/Python.framework/Versions/3.11/lib/python3.11/site-packages (4.5.0)\n",
      "Requirement already satisfied: dnspython<3.0.0,>=1.16.0 in /Library/Frameworks/Python.framework/Versions/3.11/lib/python3.11/site-packages (from pymongo) (2.4.2)\n",
      "\n",
      "\u001b[1m[\u001b[0m\u001b[34;49mnotice\u001b[0m\u001b[1;39;49m]\u001b[0m\u001b[39;49m A new release of pip is available: \u001b[0m\u001b[31;49m23.1.2\u001b[0m\u001b[39;49m -> \u001b[0m\u001b[32;49m23.2.1\u001b[0m\n",
      "\u001b[1m[\u001b[0m\u001b[34;49mnotice\u001b[0m\u001b[1;39;49m]\u001b[0m\u001b[39;49m To update, run: \u001b[0m\u001b[32;49mpip install --upgrade pip\u001b[0m\n"
     ]
    }
   ],
   "source": [
    "#installing pymongo if not installed\n",
    "!pip install pymongo"
   ]
  },
  {
   "cell_type": "code",
   "execution_count": 2,
   "id": "74ff28f4",
   "metadata": {},
   "outputs": [],
   "source": [
    "#importing pymongo\n",
    "import pymongo"
   ]
  },
  {
   "cell_type": "code",
   "execution_count": 9,
   "id": "6ebb1ee2",
   "metadata": {},
   "outputs": [],
   "source": [
    "#connecting with db\n",
    "def connect_db():\n",
    "    try:\n",
    "        \n",
    "        #connecting with server\n",
    "        myClient = pymongo.MongoClient('mongodb://localhost:27017')\n",
    "        \n",
    "        #connecting with db\n",
    "        myDb = myClient['studentsdb']\n",
    "        \n",
    "        return myDb\n",
    "    except Exception as e:\n",
    "        print('Error is ' + str(e))"
   ]
  },
  {
   "cell_type": "code",
   "execution_count": 10,
   "id": "4402c69f",
   "metadata": {},
   "outputs": [],
   "source": [
    "#creating collection\n",
    "def create_collection(myDb):\n",
    "    \n",
    "    try:\n",
    "        #checking if already exists\n",
    "        myCollections = myDb.list_collection_names()\n",
    "\n",
    "        if 'personal_details' in myCollections:\n",
    "            print('Collection already Exists')\n",
    "        else:\n",
    "            #creting collection\n",
    "            myCollection = myDb['personal_details']\n",
    "\n",
    "            #printing message\n",
    "            print('Collection added Successfully.')\n",
    "            \n",
    "    except Exception as e:\n",
    "        print('Error is ' + str(e))"
   ]
  },
  {
   "cell_type": "code",
   "execution_count": 12,
   "id": "58d79801",
   "metadata": {},
   "outputs": [
    {
     "name": "stdout",
     "output_type": "stream",
     "text": [
      "Collection added Successfully.\n"
     ]
    }
   ],
   "source": [
    "#calling both functions\n",
    "try:\n",
    "    myDb = connect_db()\n",
    "    \n",
    "    if myDb is not None:\n",
    "        create_collection(myDb)\n",
    "\n",
    "except Exception as e:\n",
    "    print('Error is ' + str(e))"
   ]
  },
  {
   "cell_type": "code",
   "execution_count": null,
   "id": "376330e3",
   "metadata": {},
   "outputs": [],
   "source": []
  }
 ],
 "metadata": {
  "kernelspec": {
   "display_name": "Python 3 (ipykernel)",
   "language": "python",
   "name": "python3"
  },
  "language_info": {
   "codemirror_mode": {
    "name": "ipython",
    "version": 3
   },
   "file_extension": ".py",
   "mimetype": "text/x-python",
   "name": "python",
   "nbconvert_exporter": "python",
   "pygments_lexer": "ipython3",
   "version": "3.11.3"
  }
 },
 "nbformat": 4,
 "nbformat_minor": 5
}
