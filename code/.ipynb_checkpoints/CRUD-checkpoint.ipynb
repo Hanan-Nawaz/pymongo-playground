{
 "cells": [
  {
   "cell_type": "code",
   "execution_count": 1,
   "id": "9ec78771",
   "metadata": {},
   "outputs": [
    {
     "name": "stdout",
     "output_type": "stream",
     "text": [
      "Requirement already satisfied: pymongo in /Library/Frameworks/Python.framework/Versions/3.11/lib/python3.11/site-packages (4.5.0)\n",
      "Requirement already satisfied: dnspython<3.0.0,>=1.16.0 in /Library/Frameworks/Python.framework/Versions/3.11/lib/python3.11/site-packages (from pymongo) (2.4.2)\n",
      "\n",
      "\u001b[1m[\u001b[0m\u001b[34;49mnotice\u001b[0m\u001b[1;39;49m]\u001b[0m\u001b[39;49m A new release of pip is available: \u001b[0m\u001b[31;49m23.1.2\u001b[0m\u001b[39;49m -> \u001b[0m\u001b[32;49m23.2.1\u001b[0m\n",
      "\u001b[1m[\u001b[0m\u001b[34;49mnotice\u001b[0m\u001b[1;39;49m]\u001b[0m\u001b[39;49m To update, run: \u001b[0m\u001b[32;49mpip install --upgrade pip\u001b[0m\n"
     ]
    }
   ],
   "source": [
    "#installing pymongo if not installed\n",
    "!pip install pymongo"
   ]
  },
  {
   "cell_type": "code",
   "execution_count": 2,
   "id": "463477bc",
   "metadata": {},
   "outputs": [],
   "source": [
    "#importing pymongo\n",
    "import pymongo"
   ]
  },
  {
   "cell_type": "code",
   "execution_count": 5,
   "id": "6d41aa08",
   "metadata": {},
   "outputs": [],
   "source": [
    "#connecting with db\n",
    "def connect_db():\n",
    "    try:\n",
    "        \n",
    "        #connecting with server\n",
    "        myClient = pymongo.MongoClient('mongodb://localhost:27017')\n",
    "        \n",
    "        #connecting with db\n",
    "        myDb = myClient['studentsdb']\n",
    "        \n",
    "        #connecting with collection\n",
    "        myCollection = myDb['personal_details']\n",
    "        \n",
    "        return myCollection\n",
    "    \n",
    "    except Exception as e:\n",
    "        print('Error ' + str(e))"
   ]
  },
  {
   "cell_type": "code",
   "execution_count": 19,
   "id": "437d90a6",
   "metadata": {},
   "outputs": [],
   "source": [
    "#adding data\n",
    "def add_data(myCollection):\n",
    "    try:\n",
    "        #one new document\n",
    "        newStudent = {'name': 'Abdul Hanan Nawaz', 'Degree': 'SE', 'Campus': 'NUML, ISB'}\n",
    "        \n",
    "        #many new stds\n",
    "        newStudents = [\n",
    "                          {'name': 'Hamza', 'Degree': 'SE', 'Campus': 'NUML, ISB'},\n",
    "                          {'name': 'Bakht', 'Degree': 'SE', 'Campus': 'NUML, ISB'}\n",
    "                      ]\n",
    "        \n",
    "        #adding single document\n",
    "        newStdAdded = myCollection.insert_one(newStudent)\n",
    "        \n",
    "        #adding many documents\n",
    "        newStdsAdded = myCollection.insert_many(newStudents)\n",
    "        \n",
    "        #printing ids\n",
    "        print('Ids are ' + str(newStdAdded.inserted_id))\n",
    "        print('Ids are ' + str(newStdsAdded.inserted_ids))\n",
    "        \n",
    "    except Exception as e:\n",
    "        print('Error ' + str(e))"
   ]
  },
  {
   "cell_type": "code",
   "execution_count": 21,
   "id": "c076f4a6",
   "metadata": {},
   "outputs": [],
   "source": [
    "#getting data\n",
    "def get_data(myCollection):\n",
    "    try:\n",
    "        \n",
    "        #getting all data\n",
    "        allData = myCollection.find()\n",
    "        \n",
    "        for data in allData:\n",
    "            print(data)\n",
    "        \n",
    "    except Exception as e:\n",
    "        print('Error ' + str(e))"
   ]
  },
  {
   "cell_type": "code",
   "execution_count": 30,
   "id": "63252f8e",
   "metadata": {},
   "outputs": [],
   "source": [
    "#updating data\n",
    "def update_data(myCollection):\n",
    "    try:\n",
    "        \n",
    "        #query -> which thing to be updated\n",
    "        myQuery = {'name': 'Hamza'}\n",
    "        \n",
    "        #newData -> data to be added\n",
    "        newData = {'$set' : {'name': 'Muhammad Hamza'} }\n",
    "        \n",
    "        #performing updation\n",
    "        update = myCollection.mycol.update_one(myQuery, newData)\n",
    "        \n",
    "        #printing updating one\n",
    "        print('Printing updating data')\n",
    "        \n",
    "        allData = myCollection.find({'name': {'$regex': '^M'}})\n",
    "        \n",
    "        for data in allData:\n",
    "            print(data)\n",
    "        \n",
    "    except Exception as e:\n",
    "        print('Error ' + str(e))"
   ]
  },
  {
   "cell_type": "code",
   "execution_count": 32,
   "id": "4146c06f",
   "metadata": {},
   "outputs": [
    {
     "name": "stdout",
     "output_type": "stream",
     "text": [
      "Ids are 6516bdd2057e678577f68380\n",
      "Ids are [ObjectId('6516bdd2057e678577f68381'), ObjectId('6516bdd2057e678577f68382')]\n",
      "Data in Personal Details\n",
      "{'_id': ObjectId('6516bb3a057e678577f68363'), 'name': 'Abdul Hanan Nawaz', 'Degree': 'SE', 'Campus': 'NUML, ISB'}\n",
      "{'_id': ObjectId('6516bbd0057e678577f68367'), 'name': 'Abdul Hanan Nawaz', 'Degree': 'SE', 'Campus': 'NUML, ISB'}\n",
      "{'_id': ObjectId('6516bbd0057e678577f68368'), 'name': 'Hamza', 'Degree': 'SE', 'Campus': 'NUML, ISB'}\n",
      "{'_id': ObjectId('6516bbd0057e678577f68369'), 'name': 'Bakht', 'Degree': 'SE', 'Campus': 'NUML, ISB'}\n",
      "{'_id': ObjectId('6516bbdb057e678577f6836b'), 'name': 'Abdul Hanan Nawaz', 'Degree': 'SE', 'Campus': 'NUML, ISB'}\n",
      "{'_id': ObjectId('6516bbdb057e678577f6836c'), 'name': 'Hamza', 'Degree': 'SE', 'Campus': 'NUML, ISB'}\n",
      "{'_id': ObjectId('6516bbdb057e678577f6836d'), 'name': 'Bakht', 'Degree': 'SE', 'Campus': 'NUML, ISB'}\n",
      "{'_id': ObjectId('6516bc09057e678577f68370'), 'name': 'Abdul Hanan Nawaz', 'Degree': 'SE', 'Campus': 'NUML, ISB'}\n",
      "{'_id': ObjectId('6516bc09057e678577f68371'), 'name': 'Hamza', 'Degree': 'SE', 'Campus': 'NUML, ISB'}\n",
      "{'_id': ObjectId('6516bc09057e678577f68372'), 'name': 'Bakht', 'Degree': 'SE', 'Campus': 'NUML, ISB'}\n",
      "{'_id': ObjectId('6516bd7a057e678577f68374'), 'name': 'Abdul Hanan Nawaz', 'Degree': 'SE', 'Campus': 'NUML, ISB'}\n",
      "{'_id': ObjectId('6516bd7a057e678577f68375'), 'name': 'Hamza', 'Degree': 'SE', 'Campus': 'NUML, ISB'}\n",
      "{'_id': ObjectId('6516bd7a057e678577f68376'), 'name': 'Bakht', 'Degree': 'SE', 'Campus': 'NUML, ISB'}\n",
      "{'_id': ObjectId('6516bd86057e678577f68378'), 'name': 'Abdul Hanan Nawaz', 'Degree': 'SE', 'Campus': 'NUML, ISB'}\n",
      "{'_id': ObjectId('6516bd86057e678577f68379'), 'name': 'Hamza', 'Degree': 'SE', 'Campus': 'NUML, ISB'}\n",
      "{'_id': ObjectId('6516bd86057e678577f6837a'), 'name': 'Bakht', 'Degree': 'SE', 'Campus': 'NUML, ISB'}\n",
      "{'_id': ObjectId('6516bdc8057e678577f6837c'), 'name': 'Abdul Hanan Nawaz', 'Degree': 'SE', 'Campus': 'NUML, ISB'}\n",
      "{'_id': ObjectId('6516bdc8057e678577f6837d'), 'name': 'Hamza', 'Degree': 'SE', 'Campus': 'NUML, ISB'}\n",
      "{'_id': ObjectId('6516bdc8057e678577f6837e'), 'name': 'Bakht', 'Degree': 'SE', 'Campus': 'NUML, ISB'}\n",
      "{'_id': ObjectId('6516bdd2057e678577f68380'), 'name': 'Abdul Hanan Nawaz', 'Degree': 'SE', 'Campus': 'NUML, ISB'}\n",
      "{'_id': ObjectId('6516bdd2057e678577f68381'), 'name': 'Hamza', 'Degree': 'SE', 'Campus': 'NUML, ISB'}\n",
      "{'_id': ObjectId('6516bdd2057e678577f68382'), 'name': 'Bakht', 'Degree': 'SE', 'Campus': 'NUML, ISB'}\n",
      "Printing updating data\n"
     ]
    }
   ],
   "source": [
    "#perforimg CRUD\n",
    "try:\n",
    "    myCollection = connect_db()\n",
    "    \n",
    "    #checking collection\n",
    "    if myCollection is not None:\n",
    "        add_data(myCollection)\n",
    "        \n",
    "        print('Data in Personal Details')\n",
    "        get_data(myCollection)\n",
    "\n",
    "        update_data(myCollection)\n",
    "        \n",
    "except Exception as e:\n",
    "    print('Error' + str(e))"
   ]
  },
  {
   "cell_type": "code",
   "execution_count": null,
   "id": "65044133",
   "metadata": {},
   "outputs": [],
   "source": []
  }
 ],
 "metadata": {
  "kernelspec": {
   "display_name": "Python 3 (ipykernel)",
   "language": "python",
   "name": "python3"
  },
  "language_info": {
   "codemirror_mode": {
    "name": "ipython",
    "version": 3
   },
   "file_extension": ".py",
   "mimetype": "text/x-python",
   "name": "python",
   "nbconvert_exporter": "python",
   "pygments_lexer": "ipython3",
   "version": "3.11.3"
  }
 },
 "nbformat": 4,
 "nbformat_minor": 5
}
