{
 "cells": [
  {
   "cell_type": "code",
   "execution_count": 7,
   "id": "4c3136d1",
   "metadata": {},
   "outputs": [
    {
     "name": "stdout",
     "output_type": "stream",
     "text": [
      "Collecting pymongo\n",
      "  Downloading pymongo-4.5.0-cp311-cp311-macosx_10_9_universal2.whl (529 kB)\n",
      "\u001b[2K     \u001b[90m━━━━━━━━━━━━━━━━━━━━━━━━━━━━━━━━━━━━━━━\u001b[0m \u001b[32m529.4/529.4 kB\u001b[0m \u001b[31m1.3 MB/s\u001b[0m eta \u001b[36m0:00:00\u001b[0ma \u001b[36m0:00:01\u001b[0m\n",
      "\u001b[?25hCollecting dnspython<3.0.0,>=1.16.0 (from pymongo)\n",
      "  Downloading dnspython-2.4.2-py3-none-any.whl (300 kB)\n",
      "\u001b[2K     \u001b[90m━━━━━━━━━━━━━━━━━━━━━━━━━━━━━━━━━━━━━━━\u001b[0m \u001b[32m300.4/300.4 kB\u001b[0m \u001b[31m1.4 MB/s\u001b[0m eta \u001b[36m0:00:00\u001b[0ma \u001b[36m0:00:01\u001b[0m\n",
      "\u001b[?25hInstalling collected packages: dnspython, pymongo\n",
      "Successfully installed dnspython-2.4.2 pymongo-4.5.0\n",
      "\n",
      "\u001b[1m[\u001b[0m\u001b[34;49mnotice\u001b[0m\u001b[1;39;49m]\u001b[0m\u001b[39;49m A new release of pip is available: \u001b[0m\u001b[31;49m23.1.2\u001b[0m\u001b[39;49m -> \u001b[0m\u001b[32;49m23.2.1\u001b[0m\n",
      "\u001b[1m[\u001b[0m\u001b[34;49mnotice\u001b[0m\u001b[1;39;49m]\u001b[0m\u001b[39;49m To update, run: \u001b[0m\u001b[32;49mpip install --upgrade pip\u001b[0m\n"
     ]
    }
   ],
   "source": [
    "#installing pymongo\n",
    "!pip install pymongo"
   ]
  },
  {
   "cell_type": "code",
   "execution_count": 26,
   "id": "4bcf7cc8",
   "metadata": {},
   "outputs": [],
   "source": [
    "#importing pymongo\n",
    "import pymongo"
   ]
  },
  {
   "cell_type": "code",
   "execution_count": 52,
   "id": "9b9cdb33",
   "metadata": {},
   "outputs": [],
   "source": [
    "#connecting with Server\n",
    "def connect_server():\n",
    "    try:\n",
    "        # Connecting with the MongoDB server\n",
    "        myCon = pymongo.MongoClient('mongodb://localhost:27017')\n",
    "        return myCon\n",
    "    except Exception as e:\n",
    "        print('Error connecting to the server is ' + str(e))\n",
    "        return None  # Return None to indicate a failed connection"
   ]
  },
  {
   "cell_type": "code",
   "execution_count": 59,
   "id": "c0f76bb2",
   "metadata": {},
   "outputs": [],
   "source": [
    "#creating database\n",
    "def create_db(conn):\n",
    "    try:\n",
    "        if conn is not None:\n",
    "            # Checking if the database already exists\n",
    "            list_db = conn.list_database_names()\n",
    "\n",
    "            if 'Studentsdb' in list_db:\n",
    "                print('Database already exists.')\n",
    "            else:\n",
    "                # Creating the database\n",
    "                my_db = conn['Studentsdb']\n",
    "                print('Database Created Successfully.')\n",
    "        else:\n",
    "            print('Connection to the server failed. Database not created.')\n",
    "\n",
    "    except Exception as e:\n",
    "        print('Error creating database is ' + str(e))"
   ]
  },
  {
   "cell_type": "code",
   "execution_count": 58,
   "id": "e7f9e920",
   "metadata": {},
   "outputs": [
    {
     "name": "stdout",
     "output_type": "stream",
     "text": [
      "Database Created Successfully.\n"
     ]
    }
   ],
   "source": [
    "try:\n",
    "\n",
    "    #calling connect_server function\n",
    "    conn = connect_server()\n",
    "    if conn is not None:\n",
    "        # Calling create_db function\n",
    "        create_db(conn)\n",
    "        # Close the connection when done\n",
    "        myCon.close() \n",
    "\n",
    "except Exception as e:\n",
    "    print('Error is ' + str(e))"
   ]
  },
  {
   "cell_type": "code",
   "execution_count": null,
   "id": "3aa05c14",
   "metadata": {},
   "outputs": [],
   "source": []
  }
 ],
 "metadata": {
  "kernelspec": {
   "display_name": "Python 3 (ipykernel)",
   "language": "python",
   "name": "python3"
  },
  "language_info": {
   "codemirror_mode": {
    "name": "ipython",
    "version": 3
   },
   "file_extension": ".py",
   "mimetype": "text/x-python",
   "name": "python",
   "nbconvert_exporter": "python",
   "pygments_lexer": "ipython3",
   "version": "3.11.3"
  }
 },
 "nbformat": 4,
 "nbformat_minor": 5
}
